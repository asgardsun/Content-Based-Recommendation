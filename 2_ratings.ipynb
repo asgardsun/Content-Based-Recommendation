{
  "nbformat": 4,
  "nbformat_minor": 0,
  "metadata": {
    "colab": {
      "provenance": [],
      "mount_file_id": "1K_lkIlkSXhJfL_YlhSe1ZjojOkqEX27s",
      "authorship_tag": "ABX9TyPugxLuxDnCVgT6dIS72s9n",
      "include_colab_link": true
    },
    "kernelspec": {
      "name": "python3",
      "display_name": "Python 3"
    },
    "language_info": {
      "name": "python"
    }
  },
  "cells": [
    {
      "cell_type": "markdown",
      "metadata": {
        "id": "view-in-github",
        "colab_type": "text"
      },
      "source": [
        "<a href=\"https://colab.research.google.com/github/asgardsun/Content-Based-Recommendation/blob/main/2_ratings.ipynb\" target=\"_parent\"><img src=\"https://colab.research.google.com/assets/colab-badge.svg\" alt=\"Open In Colab\"/></a>"
      ]
    },
    {
      "cell_type": "markdown",
      "source": [
        "###기초 통계"
      ],
      "metadata": {
        "id": "ctshCcnIt3oZ"
      }
    },
    {
      "cell_type": "code",
      "execution_count": null,
      "metadata": {
        "id": "cwCvCtverpAr"
      },
      "outputs": [],
      "source": [
        "import pandas as pd"
      ]
    },
    {
      "cell_type": "code",
      "source": [
        "ratings = pd.read_csv('/content/drive/MyDrive/recommendation/data/ratings.csv')\n",
        "ratings.sample()\n",
        "#timestamp란? 유저들이 한번에(같은 시간에) 기록한 데이터"
      ],
      "metadata": {
        "id": "6LZhJ2CWrv-u",
        "colab": {
          "base_uri": "https://localhost:8080/",
          "height": 80
        },
        "outputId": "0680fb71-721c-4dd9-9f41-6714299602c0"
      },
      "execution_count": null,
      "outputs": [
        {
          "output_type": "execute_result",
          "data": {
            "text/plain": [
              "       userId  movieId  rating   timestamp\n",
              "26889     182     5349     3.0  1055151103"
            ],
            "text/html": [
              "\n",
              "  <div id=\"df-3cb46109-2ba1-485b-b671-c0dc61e8efb5\">\n",
              "    <div class=\"colab-df-container\">\n",
              "      <div>\n",
              "<style scoped>\n",
              "    .dataframe tbody tr th:only-of-type {\n",
              "        vertical-align: middle;\n",
              "    }\n",
              "\n",
              "    .dataframe tbody tr th {\n",
              "        vertical-align: top;\n",
              "    }\n",
              "\n",
              "    .dataframe thead th {\n",
              "        text-align: right;\n",
              "    }\n",
              "</style>\n",
              "<table border=\"1\" class=\"dataframe\">\n",
              "  <thead>\n",
              "    <tr style=\"text-align: right;\">\n",
              "      <th></th>\n",
              "      <th>userId</th>\n",
              "      <th>movieId</th>\n",
              "      <th>rating</th>\n",
              "      <th>timestamp</th>\n",
              "    </tr>\n",
              "  </thead>\n",
              "  <tbody>\n",
              "    <tr>\n",
              "      <th>26889</th>\n",
              "      <td>182</td>\n",
              "      <td>5349</td>\n",
              "      <td>3.0</td>\n",
              "      <td>1055151103</td>\n",
              "    </tr>\n",
              "  </tbody>\n",
              "</table>\n",
              "</div>\n",
              "      <button class=\"colab-df-convert\" onclick=\"convertToInteractive('df-3cb46109-2ba1-485b-b671-c0dc61e8efb5')\"\n",
              "              title=\"Convert this dataframe to an interactive table.\"\n",
              "              style=\"display:none;\">\n",
              "        \n",
              "  <svg xmlns=\"http://www.w3.org/2000/svg\" height=\"24px\"viewBox=\"0 0 24 24\"\n",
              "       width=\"24px\">\n",
              "    <path d=\"M0 0h24v24H0V0z\" fill=\"none\"/>\n",
              "    <path d=\"M18.56 5.44l.94 2.06.94-2.06 2.06-.94-2.06-.94-.94-2.06-.94 2.06-2.06.94zm-11 1L8.5 8.5l.94-2.06 2.06-.94-2.06-.94L8.5 2.5l-.94 2.06-2.06.94zm10 10l.94 2.06.94-2.06 2.06-.94-2.06-.94-.94-2.06-.94 2.06-2.06.94z\"/><path d=\"M17.41 7.96l-1.37-1.37c-.4-.4-.92-.59-1.43-.59-.52 0-1.04.2-1.43.59L10.3 9.45l-7.72 7.72c-.78.78-.78 2.05 0 2.83L4 21.41c.39.39.9.59 1.41.59.51 0 1.02-.2 1.41-.59l7.78-7.78 2.81-2.81c.8-.78.8-2.07 0-2.86zM5.41 20L4 18.59l7.72-7.72 1.47 1.35L5.41 20z\"/>\n",
              "  </svg>\n",
              "      </button>\n",
              "      \n",
              "  <style>\n",
              "    .colab-df-container {\n",
              "      display:flex;\n",
              "      flex-wrap:wrap;\n",
              "      gap: 12px;\n",
              "    }\n",
              "\n",
              "    .colab-df-convert {\n",
              "      background-color: #E8F0FE;\n",
              "      border: none;\n",
              "      border-radius: 50%;\n",
              "      cursor: pointer;\n",
              "      display: none;\n",
              "      fill: #1967D2;\n",
              "      height: 32px;\n",
              "      padding: 0 0 0 0;\n",
              "      width: 32px;\n",
              "    }\n",
              "\n",
              "    .colab-df-convert:hover {\n",
              "      background-color: #E2EBFA;\n",
              "      box-shadow: 0px 1px 2px rgba(60, 64, 67, 0.3), 0px 1px 3px 1px rgba(60, 64, 67, 0.15);\n",
              "      fill: #174EA6;\n",
              "    }\n",
              "\n",
              "    [theme=dark] .colab-df-convert {\n",
              "      background-color: #3B4455;\n",
              "      fill: #D2E3FC;\n",
              "    }\n",
              "\n",
              "    [theme=dark] .colab-df-convert:hover {\n",
              "      background-color: #434B5C;\n",
              "      box-shadow: 0px 1px 3px 1px rgba(0, 0, 0, 0.15);\n",
              "      filter: drop-shadow(0px 1px 2px rgba(0, 0, 0, 0.3));\n",
              "      fill: #FFFFFF;\n",
              "    }\n",
              "  </style>\n",
              "\n",
              "      <script>\n",
              "        const buttonEl =\n",
              "          document.querySelector('#df-3cb46109-2ba1-485b-b671-c0dc61e8efb5 button.colab-df-convert');\n",
              "        buttonEl.style.display =\n",
              "          google.colab.kernel.accessAllowed ? 'block' : 'none';\n",
              "\n",
              "        async function convertToInteractive(key) {\n",
              "          const element = document.querySelector('#df-3cb46109-2ba1-485b-b671-c0dc61e8efb5');\n",
              "          const dataTable =\n",
              "            await google.colab.kernel.invokeFunction('convertToInteractive',\n",
              "                                                     [key], {});\n",
              "          if (!dataTable) return;\n",
              "\n",
              "          const docLinkHtml = 'Like what you see? Visit the ' +\n",
              "            '<a target=\"_blank\" href=https://colab.research.google.com/notebooks/data_table.ipynb>data table notebook</a>'\n",
              "            + ' to learn more about interactive tables.';\n",
              "          element.innerHTML = '';\n",
              "          dataTable['output_type'] = 'display_data';\n",
              "          await google.colab.output.renderOutput(dataTable, element);\n",
              "          const docLink = document.createElement('div');\n",
              "          docLink.innerHTML = docLinkHtml;\n",
              "          element.appendChild(docLink);\n",
              "        }\n",
              "      </script>\n",
              "    </div>\n",
              "  </div>\n",
              "  "
            ]
          },
          "metadata": {},
          "execution_count": 5
        }
      ]
    },
    {
      "cell_type": "code",
      "source": [
        "ratings.shape # 총 100836의 데이터"
      ],
      "metadata": {
        "colab": {
          "base_uri": "https://localhost:8080/"
        },
        "id": "QYZU-aCesg5V",
        "outputId": "d7e49533-83a8-42b2-f5c6-2932c495ed89"
      },
      "execution_count": null,
      "outputs": [
        {
          "output_type": "execute_result",
          "data": {
            "text/plain": [
              "(100836, 4)"
            ]
          },
          "metadata": {},
          "execution_count": 6
        }
      ]
    },
    {
      "cell_type": "code",
      "source": [
        "print(len(ratings['userId'].unique())) # 610명의 유저 데이터 (중복제거)\n",
        "print(len(ratings['movieId'].unique())) # 9724개의 영화 데이터(중복제거)"
      ],
      "metadata": {
        "colab": {
          "base_uri": "https://localhost:8080/"
        },
        "id": "XKamUQh1tHDm",
        "outputId": "42d24e7c-9429-4c35-8108-41e36b2476b9"
      },
      "execution_count": null,
      "outputs": [
        {
          "output_type": "stream",
          "name": "stdout",
          "text": [
            "610\n",
            "9724\n"
          ]
        }
      ]
    },
    {
      "cell_type": "code",
      "source": [
        "ratings['rating'].describe()"
      ],
      "metadata": {
        "id": "JN_QmHPTtUpk",
        "colab": {
          "base_uri": "https://localhost:8080/"
        },
        "outputId": "7391b19b-df57-4ebf-d4ec-07bd40e10872"
      },
      "execution_count": null,
      "outputs": [
        {
          "output_type": "execute_result",
          "data": {
            "text/plain": [
              "count    100836.000000\n",
              "mean          3.501557\n",
              "std           1.042529\n",
              "min           0.500000\n",
              "25%           3.000000\n",
              "50%           3.500000\n",
              "75%           4.000000\n",
              "max           5.000000\n",
              "Name: rating, dtype: float64"
            ]
          },
          "metadata": {},
          "execution_count": 12
        }
      ]
    },
    {
      "cell_type": "code",
      "source": [
        "%matplotlib inline"
      ],
      "metadata": {
        "id": "1scmc_J_t1i4"
      },
      "execution_count": null,
      "outputs": []
    },
    {
      "cell_type": "code",
      "source": [
        "ratings['rating'].hist()"
      ],
      "metadata": {
        "colab": {
          "base_uri": "https://localhost:8080/",
          "height": 282
        },
        "id": "anRMGTQYuDVb",
        "outputId": "48edc572-0d62-4471-e63a-50b5106810cf"
      },
      "execution_count": null,
      "outputs": [
        {
          "output_type": "execute_result",
          "data": {
            "text/plain": [
              "<matplotlib.axes._subplots.AxesSubplot at 0x7fd2e88a7290>"
            ]
          },
          "metadata": {},
          "execution_count": 14
        },
        {
          "output_type": "display_data",
          "data": {
            "text/plain": [
              "<Figure size 432x288 with 1 Axes>"
            ],
            "image/png": "[encoded data removed]"
          },
          "metadata": {
            "needs_background": "light"
          }
        }
      ]
    },
    {
      "cell_type": "markdown",
      "source": [
        "#평점의 분포\n",
        "\n"
      ],
      "metadata": {
        "id": "j8xBWWzzt_QL"
      }
    },
    {
      "cell_type": "markdown",
      "source": [
        "### 사람들은 평균적으로 몇 개의 영화에 대해서 rating을 남겼는가?"
      ],
      "metadata": {
        "id": "Xq5dNQTmvG9a"
      }
    },
    {
      "cell_type": "code",
      "source": [
        "users = ratings.groupby('userId')['movieId'].count()\n",
        "users[:5]"
      ],
      "metadata": {
        "colab": {
          "base_uri": "https://localhost:8080/"
        },
        "id": "qtGOUlEbvQ1O",
        "outputId": "3e4e0093-f186-4ad0-8481-5c9f15c6a112"
      },
      "execution_count": null,
      "outputs": [
        {
          "output_type": "execute_result",
          "data": {
            "text/plain": [
              "userId\n",
              "1    232\n",
              "2     29\n",
              "3     39\n",
              "4    216\n",
              "5     44\n",
              "Name: movieId, dtype: int64"
            ]
          },
          "metadata": {},
          "execution_count": 16
        }
      ]
    },
    {
      "cell_type": "code",
      "source": [
        "users.describe() #총 610명 평균은 165.3개 가장 적게 남긴 사람은 20개, 최고값은 2698개 "
      ],
      "metadata": {
        "colab": {
          "base_uri": "https://localhost:8080/"
        },
        "id": "GpjKCGEPvqP7",
        "outputId": "2cfc3d3c-ec4a-48d6-f1e7-f97e02161a01"
      },
      "execution_count": null,
      "outputs": [
        {
          "output_type": "execute_result",
          "data": {
            "text/plain": [
              "count     610.000000\n",
              "mean      165.304918\n",
              "std       269.480584\n",
              "min        20.000000\n",
              "25%        35.000000\n",
              "50%        70.500000\n",
              "75%       168.000000\n",
              "max      2698.000000\n",
              "Name: movieId, dtype: float64"
            ]
          },
          "metadata": {},
          "execution_count": 17
        }
      ]
    },
    {
      "cell_type": "code",
      "source": [
        "import seaborn as sns\n",
        "\n",
        "#poewr law distribution, 멱함수 분포\n",
        "sns.distplot(users.values)"
      ],
      "metadata": {
        "colab": {
          "base_uri": "https://localhost:8080/",
          "height": 336
        },
        "id": "2YWHRTRCv0Ik",
        "outputId": "ef8f3141-8c42-4410-8308-7fed85722c2f"
      },
      "execution_count": null,
      "outputs": [
        {
          "output_type": "stream",
          "name": "stderr",
          "text": [
            "/usr/local/lib/python3.7/dist-packages/seaborn/distributions.py:2619: FutureWarning: `distplot` is a deprecated function and will be removed in a future version. Please adapt your code to use either `displot` (a figure-level function with similar flexibility) or `histplot` (an axes-level function for histograms).\n",
            "  warnings.warn(msg, FutureWarning)\n"
          ]
        },
        {
          "output_type": "execute_result",
          "data": {
            "text/plain": [
              "<matplotlib.axes._subplots.AxesSubplot at 0x7fd2dc424e50>"
            ]
          },
          "metadata": {},
          "execution_count": 20
        },
        {
          "output_type": "display_data",
          "data": {
            "text/plain": [
              "<Figure size 432x288 with 1 Axes>"
            ],
            "image/png": "[encoded data removed]"
          },
          "metadata": {
            "needs_background": "light"
          }
        }
      ]
    },
    {
      "cell_type": "markdown",
      "source": [
        "###사람들이 많이 보는 영화는?"
      ],
      "metadata": {
        "id": "xcMYF7sYxX9n"
      }
    },
    {
      "cell_type": "code",
      "source": [
        "films = ratings.groupby('movieId')['userId'].count()\n",
        "films[:5]"
      ],
      "metadata": {
        "colab": {
          "base_uri": "https://localhost:8080/"
        },
        "id": "0l_1VsJXxeK2",
        "outputId": "7765cc04-a2fb-46b2-95e6-2bdc99926a97"
      },
      "execution_count": null,
      "outputs": [
        {
          "output_type": "execute_result",
          "data": {
            "text/plain": [
              "movieId\n",
              "1    215\n",
              "2    110\n",
              "3     52\n",
              "4      7\n",
              "5     49\n",
              "Name: userId, dtype: int64"
            ]
          },
          "metadata": {},
          "execution_count": 28
        }
      ]
    },
    {
      "cell_type": "code",
      "source": [
        "films.describe()"
      ],
      "metadata": {
        "colab": {
          "base_uri": "https://localhost:8080/"
        },
        "id": "i0a5mAyrx9hI",
        "outputId": "06bc5e3b-53f9-40fe-8396-892bb36d6f74"
      },
      "execution_count": null,
      "outputs": [
        {
          "output_type": "execute_result",
          "data": {
            "text/plain": [
              "count    9724.000000\n",
              "mean       10.369807\n",
              "std        22.401005\n",
              "min         1.000000\n",
              "25%         1.000000\n",
              "50%         3.000000\n",
              "75%         9.000000\n",
              "max       329.000000\n",
              "Name: userId, dtype: float64"
            ]
          },
          "metadata": {},
          "execution_count": 29
        }
      ]
    },
    {
      "cell_type": "code",
      "source": [
        "sns.displot(films.values)"
      ],
      "metadata": {
        "colab": {
          "base_uri": "https://localhost:8080/",
          "height": 386
        },
        "id": "xzG_1wbZx-60",
        "outputId": "acb07b67-3876-4fb9-fe20-96326601e1a3"
      },
      "execution_count": null,
      "outputs": [
        {
          "output_type": "execute_result",
          "data": {
            "text/plain": [
              "<seaborn.axisgrid.FacetGrid at 0x7fd2dc210c10>"
            ]
          },
          "metadata": {},
          "execution_count": 30
        },
        {
          "output_type": "display_data",
          "data": {
            "text/plain": [
              "<Figure size 360x360 with 1 Axes>"
            ],
            "image/png": "[encoded data removed]"
          },
          "metadata": {
            "needs_background": "light"
          }
        }
      ]
    },
    {
      "cell_type": "code",
      "source": [
        "films.sort_values(ascending=False)[:5]"
      ],
      "metadata": {
        "colab": {
          "base_uri": "https://localhost:8080/"
        },
        "id": "KamQLn1ayInV",
        "outputId": "34920810-e955-4980-b409-c6d8ff2ba57b"
      },
      "execution_count": null,
      "outputs": [
        {
          "output_type": "execute_result",
          "data": {
            "text/plain": [
              "movieId\n",
              "356     329\n",
              "318     317\n",
              "296     307\n",
              "593     279\n",
              "2571    278\n",
              "Name: userId, dtype: int64"
            ]
          },
          "metadata": {},
          "execution_count": 31
        }
      ]
    },
    {
      "cell_type": "markdown",
      "source": [
        "###유저별 평점 패턴 분석"
      ],
      "metadata": {
        "id": "qqKAv3qXzJMF"
      }
    },
    {
      "cell_type": "code",
      "source": [
        "movies = pd.read_csv('/content/drive/MyDrive/recommendation/data/movies.csv',index_col='movieId')"
      ],
      "metadata": {
        "id": "-VvJyUlZyuom"
      },
      "execution_count": null,
      "outputs": []
    },
    {
      "cell_type": "code",
      "source": [
        "movies.loc[[356, 318, 296, 593, 2571]]"
      ],
      "metadata": {
        "colab": {
          "base_uri": "https://localhost:8080/",
          "height": 235
        },
        "id": "cAs1VK75zHg2",
        "outputId": "c7bf59c4-ec5a-4e9c-b463-c40c64d7ca74"
      },
      "execution_count": null,
      "outputs": [
        {
          "output_type": "execute_result",
          "data": {
            "text/plain": [
              "                                    title                       genres\n",
              "movieId                                                               \n",
              "356                   Forrest Gump (1994)     Comedy|Drama|Romance|War\n",
              "318      Shawshank Redemption, The (1994)                  Crime|Drama\n",
              "296                   Pulp Fiction (1994)  Comedy|Crime|Drama|Thriller\n",
              "593      Silence of the Lambs, The (1991)        Crime|Horror|Thriller\n",
              "2571                   Matrix, The (1999)       Action|Sci-Fi|Thriller"
            ],
            "text/html": [
              "\n",
              "  <div id=\"df-9bcd73d0-c7b5-43f5-8c4a-7d892f332c11\">\n",
              "    <div class=\"colab-df-container\">\n",
              "      <div>\n",
              "<style scoped>\n",
              "    .dataframe tbody tr th:only-of-type {\n",
              "        vertical-align: middle;\n",
              "    }\n",
              "\n",
              "    .dataframe tbody tr th {\n",
              "        vertical-align: top;\n",
              "    }\n",
              "\n",
              "    .dataframe thead th {\n",
              "        text-align: right;\n",
              "    }\n",
              "</style>\n",
              "<table border=\"1\" class=\"dataframe\">\n",
              "  <thead>\n",
              "    <tr style=\"text-align: right;\">\n",
              "      <th></th>\n",
              "      <th>title</th>\n",
              "      <th>genres</th>\n",
              "    </tr>\n",
              "    <tr>\n",
              "      <th>movieId</th>\n",
              "      <th></th>\n",
              "      <th></th>\n",
              "    </tr>\n",
              "  </thead>\n",
              "  <tbody>\n",
              "    <tr>\n",
              "      <th>356</th>\n",
              "      <td>Forrest Gump (1994)</td>\n",
              "      <td>Comedy|Drama|Romance|War</td>\n",
              "    </tr>\n",
              "    <tr>\n",
              "      <th>318</th>\n",
              "      <td>Shawshank Redemption, The (1994)</td>\n",
              "      <td>Crime|Drama</td>\n",
              "    </tr>\n",
              "    <tr>\n",
              "      <th>296</th>\n",
              "      <td>Pulp Fiction (1994)</td>\n",
              "      <td>Comedy|Crime|Drama|Thriller</td>\n",
              "    </tr>\n",
              "    <tr>\n",
              "      <th>593</th>\n",
              "      <td>Silence of the Lambs, The (1991)</td>\n",
              "      <td>Crime|Horror|Thriller</td>\n",
              "    </tr>\n",
              "    <tr>\n",
              "      <th>2571</th>\n",
              "      <td>Matrix, The (1999)</td>\n",
              "      <td>Action|Sci-Fi|Thriller</td>\n",
              "    </tr>\n",
              "  </tbody>\n",
              "</table>\n",
              "</div>\n",
              "      <button class=\"colab-df-convert\" onclick=\"convertToInteractive('df-9bcd73d0-c7b5-43f5-8c4a-7d892f332c11')\"\n",
              "              title=\"Convert this dataframe to an interactive table.\"\n",
              "              style=\"display:none;\">\n",
              "        \n",
              "  <svg xmlns=\"http://www.w3.org/2000/svg\" height=\"24px\"viewBox=\"0 0 24 24\"\n",
              "       width=\"24px\">\n",
              "    <path d=\"M0 0h24v24H0V0z\" fill=\"none\"/>\n",
              "    <path d=\"M18.56 5.44l.94 2.06.94-2.06 2.06-.94-2.06-.94-.94-2.06-.94 2.06-2.06.94zm-11 1L8.5 8.5l.94-2.06 2.06-.94-2.06-.94L8.5 2.5l-.94 2.06-2.06.94zm10 10l.94 2.06.94-2.06 2.06-.94-2.06-.94-.94-2.06-.94 2.06-2.06.94z\"/><path d=\"M17.41 7.96l-1.37-1.37c-.4-.4-.92-.59-1.43-.59-.52 0-1.04.2-1.43.59L10.3 9.45l-7.72 7.72c-.78.78-.78 2.05 0 2.83L4 21.41c.39.39.9.59 1.41.59.51 0 1.02-.2 1.41-.59l7.78-7.78 2.81-2.81c.8-.78.8-2.07 0-2.86zM5.41 20L4 18.59l7.72-7.72 1.47 1.35L5.41 20z\"/>\n",
              "  </svg>\n",
              "      </button>\n",
              "      \n",
              "  <style>\n",
              "    .colab-df-container {\n",
              "      display:flex;\n",
              "      flex-wrap:wrap;\n",
              "      gap: 12px;\n",
              "    }\n",
              "\n",
              "    .colab-df-convert {\n",
              "      background-color: #E8F0FE;\n",
              "      border: none;\n",
              "      border-radius: 50%;\n",
              "      cursor: pointer;\n",
              "      display: none;\n",
              "      fill: #1967D2;\n",
              "      height: 32px;\n",
              "      padding: 0 0 0 0;\n",
              "      width: 32px;\n",
              "    }\n",
              "\n",
              "    .colab-df-convert:hover {\n",
              "      background-color: #E2EBFA;\n",
              "      box-shadow: 0px 1px 2px rgba(60, 64, 67, 0.3), 0px 1px 3px 1px rgba(60, 64, 67, 0.15);\n",
              "      fill: #174EA6;\n",
              "    }\n",
              "\n",
              "    [theme=dark] .colab-df-convert {\n",
              "      background-color: #3B4455;\n",
              "      fill: #D2E3FC;\n",
              "    }\n",
              "\n",
              "    [theme=dark] .colab-df-convert:hover {\n",
              "      background-color: #434B5C;\n",
              "      box-shadow: 0px 1px 3px 1px rgba(0, 0, 0, 0.15);\n",
              "      filter: drop-shadow(0px 1px 2px rgba(0, 0, 0, 0.3));\n",
              "      fill: #FFFFFF;\n",
              "    }\n",
              "  </style>\n",
              "\n",
              "      <script>\n",
              "        const buttonEl =\n",
              "          document.querySelector('#df-9bcd73d0-c7b5-43f5-8c4a-7d892f332c11 button.colab-df-convert');\n",
              "        buttonEl.style.display =\n",
              "          google.colab.kernel.accessAllowed ? 'block' : 'none';\n",
              "\n",
              "        async function convertToInteractive(key) {\n",
              "          const element = document.querySelector('#df-9bcd73d0-c7b5-43f5-8c4a-7d892f332c11');\n",
              "          const dataTable =\n",
              "            await google.colab.kernel.invokeFunction('convertToInteractive',\n",
              "                                                     [key], {});\n",
              "          if (!dataTable) return;\n",
              "\n",
              "          const docLinkHtml = 'Like what you see? Visit the ' +\n",
              "            '<a target=\"_blank\" href=https://colab.research.google.com/notebooks/data_table.ipynb>data table notebook</a>'\n",
              "            + ' to learn more about interactive tables.';\n",
              "          element.innerHTML = '';\n",
              "          dataTable['output_type'] = 'display_data';\n",
              "          await google.colab.output.renderOutput(dataTable, element);\n",
              "          const docLink = document.createElement('div');\n",
              "          docLink.innerHTML = docLinkHtml;\n",
              "          element.appendChild(docLink);\n",
              "        }\n",
              "      </script>\n",
              "    </div>\n",
              "  </div>\n",
              "  "
            ]
          },
          "metadata": {},
          "execution_count": 37
        }
      ]
    },
    {
      "cell_type": "markdown",
      "source": [
        "###겨울왕국 평점보기"
      ],
      "metadata": {
        "id": "3Nj0nuFCzvtm"
      }
    },
    {
      "cell_type": "code",
      "source": [
        "#movieId = 106696\n",
        "movies.loc[106696]"
      ],
      "metadata": {
        "colab": {
          "base_uri": "https://localhost:8080/"
        },
        "id": "wC-owclqzwTm",
        "outputId": "dfb048b6-78bd-46c4-c2c7-4aaa40bf112b"
      },
      "execution_count": null,
      "outputs": [
        {
          "output_type": "execute_result",
          "data": {
            "text/plain": [
              "title                                         Frozen (2013)\n",
              "genres    Adventure|Animation|Comedy|Fantasy|Musical|Rom...\n",
              "Name: 106696, dtype: object"
            ]
          },
          "metadata": {},
          "execution_count": 40
        }
      ]
    },
    {
      "cell_type": "code",
      "source": [
        "frozen = ratings[ratings['movieId'] == 106696]"
      ],
      "metadata": {
        "id": "QqPWaz3tz05n"
      },
      "execution_count": null,
      "outputs": []
    },
    {
      "cell_type": "code",
      "source": [
        "len(frozen)"
      ],
      "metadata": {
        "colab": {
          "base_uri": "https://localhost:8080/"
        },
        "id": "pDGzZ3XR0BWU",
        "outputId": "ba9a98ff-e5b3-4c1d-a9d7-92477494d7f0"
      },
      "execution_count": null,
      "outputs": [
        {
          "output_type": "execute_result",
          "data": {
            "text/plain": [
              "29"
            ]
          },
          "metadata": {},
          "execution_count": 44
        }
      ]
    },
    {
      "cell_type": "code",
      "source": [
        "frozen['rating'].hist()"
      ],
      "metadata": {
        "colab": {
          "base_uri": "https://localhost:8080/",
          "height": 282
        },
        "id": "MyknWn980DLJ",
        "outputId": "ec609e85-6870-4c1b-decc-062a6b3057fe"
      },
      "execution_count": null,
      "outputs": [
        {
          "output_type": "execute_result",
          "data": {
            "text/plain": [
              "<matplotlib.axes._subplots.AxesSubplot at 0x7fd2d933da10>"
            ]
          },
          "metadata": {},
          "execution_count": 45
        },
        {
          "output_type": "display_data",
          "data": {
            "text/plain": [
              "<Figure size 432x288 with 1 Axes>"
            ],
            "image/png": "[encoded data removed]"
          },
          "metadata": {
            "needs_background": "light"
          }
        }
      ]
    },
    {
      "cell_type": "code",
      "source": [
        "frozen"
      ],
      "metadata": {
        "colab": {
          "base_uri": "https://localhost:8080/",
          "height": 948
        },
        "id": "yasccg1d0KCP",
        "outputId": "a09a1f01-9a9f-4dd0-8657-687b085fa55c"
      },
      "execution_count": null,
      "outputs": [
        {
          "output_type": "execute_result",
          "data": {
            "text/plain": [
              "       userId  movieId  rating   timestamp\n",
              "1245       10   106696     4.5  1455306204\n",
              "3572       21   106696     4.0  1403460685\n",
              "9418       63   106696     5.0  1443461176\n",
              "16798     105   106696     3.5  1447563589\n",
              "21852     141   106696     3.0  1513129988\n",
              "21967     143   106696     4.0  1444768621\n",
              "22567     153   106696     2.5  1525552648\n",
              "23219     159   106696     3.0  1508640298\n",
              "25783     177   106696     5.0  1435529765\n",
              "35769     241   106696     4.0  1447540037\n",
              "37282     249   106696     3.5  1396222978\n",
              "37490     252   106696     4.5  1498284778\n",
              "43914     292   106696     4.0  1421974328\n",
              "46526     305   106696     4.0  1460303575\n",
              "46686     306   106696     4.0  1518380586\n",
              "49886     319   106696     4.5  1461351802\n",
              "51345     331   106696     3.5  1537158456\n",
              "53458     352   106696     2.0  1493674468\n",
              "58821     382   106696     3.5  1515161464\n",
              "77938     483   106696     4.0  1415575259\n",
              "79732     495   106696     5.0  1458635883\n",
              "80811     509   106696     4.5  1444255616\n",
              "81910     517   106696     1.0  1487955739\n",
              "83064     525   106696     3.5  1476476140\n",
              "84033     534   106696     3.0  1459787998\n",
              "88023     567   106696     0.5  1525289874\n",
              "89900     583   106696     3.0  1481474420\n",
              "90206     586   106696     5.0  1529899352\n",
              "92080     596   106696     3.5  1535827238"
            ],
            "text/html": [
              "\n",
              "  <div id=\"df-b445b48a-ad3f-4382-8377-994ea47417eb\">\n",
              "    <div class=\"colab-df-container\">\n",
              "      <div>\n",
              "<style scoped>\n",
              "    .dataframe tbody tr th:only-of-type {\n",
              "        vertical-align: middle;\n",
              "    }\n",
              "\n",
              "    .dataframe tbody tr th {\n",
              "        vertical-align: top;\n",
              "    }\n",
              "\n",
              "    .dataframe thead th {\n",
              "        text-align: right;\n",
              "    }\n",
              "</style>\n",
              "<table border=\"1\" class=\"dataframe\">\n",
              "  <thead>\n",
              "    <tr style=\"text-align: right;\">\n",
              "      <th></th>\n",
              "      <th>userId</th>\n",
              "      <th>movieId</th>\n",
              "      <th>rating</th>\n",
              "      <th>timestamp</th>\n",
              "    </tr>\n",
              "  </thead>\n",
              "  <tbody>\n",
              "    <tr>\n",
              "      <th>1245</th>\n",
              "      <td>10</td>\n",
              "      <td>106696</td>\n",
              "      <td>4.5</td>\n",
              "      <td>1455306204</td>\n",
              "    </tr>\n",
              "    <tr>\n",
              "      <th>3572</th>\n",
              "      <td>21</td>\n",
              "      <td>106696</td>\n",
              "      <td>4.0</td>\n",
              "      <td>1403460685</td>\n",
              "    </tr>\n",
              "    <tr>\n",
              "      <th>9418</th>\n",
              "      <td>63</td>\n",
              "      <td>106696</td>\n",
              "      <td>5.0</td>\n",
              "      <td>1443461176</td>\n",
              "    </tr>\n",
              "    <tr>\n",
              "      <th>16798</th>\n",
              "      <td>105</td>\n",
              "      <td>106696</td>\n",
              "      <td>3.5</td>\n",
              "      <td>1447563589</td>\n",
              "    </tr>\n",
              "    <tr>\n",
              "      <th>21852</th>\n",
              "      <td>141</td>\n",
              "      <td>106696</td>\n",
              "      <td>3.0</td>\n",
              "      <td>1513129988</td>\n",
              "    </tr>\n",
              "    <tr>\n",
              "      <th>21967</th>\n",
              "      <td>143</td>\n",
              "      <td>106696</td>\n",
              "      <td>4.0</td>\n",
              "      <td>1444768621</td>\n",
              "    </tr>\n",
              "    <tr>\n",
              "      <th>22567</th>\n",
              "      <td>153</td>\n",
              "      <td>106696</td>\n",
              "      <td>2.5</td>\n",
              "      <td>1525552648</td>\n",
              "    </tr>\n",
              "    <tr>\n",
              "      <th>23219</th>\n",
              "      <td>159</td>\n",
              "      <td>106696</td>\n",
              "      <td>3.0</td>\n",
              "      <td>1508640298</td>\n",
              "    </tr>\n",
              "    <tr>\n",
              "      <th>25783</th>\n",
              "      <td>177</td>\n",
              "      <td>106696</td>\n",
              "      <td>5.0</td>\n",
              "      <td>1435529765</td>\n",
              "    </tr>\n",
              "    <tr>\n",
              "      <th>35769</th>\n",
              "      <td>241</td>\n",
              "      <td>106696</td>\n",
              "      <td>4.0</td>\n",
              "      <td>1447540037</td>\n",
              "    </tr>\n",
              "    <tr>\n",
              "      <th>37282</th>\n",
              "      <td>249</td>\n",
              "      <td>106696</td>\n",
              "      <td>3.5</td>\n",
              "      <td>1396222978</td>\n",
              "    </tr>\n",
              "    <tr>\n",
              "      <th>37490</th>\n",
              "      <td>252</td>\n",
              "      <td>106696</td>\n",
              "      <td>4.5</td>\n",
              "      <td>1498284778</td>\n",
              "    </tr>\n",
              "    <tr>\n",
              "      <th>43914</th>\n",
              "      <td>292</td>\n",
              "      <td>106696</td>\n",
              "      <td>4.0</td>\n",
              "      <td>1421974328</td>\n",
              "    </tr>\n",
              "    <tr>\n",
              "      <th>46526</th>\n",
              "      <td>305</td>\n",
              "      <td>106696</td>\n",
              "      <td>4.0</td>\n",
              "      <td>1460303575</td>\n",
              "    </tr>\n",
              "    <tr>\n",
              "      <th>46686</th>\n",
              "      <td>306</td>\n",
              "      <td>106696</td>\n",
              "      <td>4.0</td>\n",
              "      <td>1518380586</td>\n",
              "    </tr>\n",
              "    <tr>\n",
              "      <th>49886</th>\n",
              "      <td>319</td>\n",
              "      <td>106696</td>\n",
              "      <td>4.5</td>\n",
              "      <td>1461351802</td>\n",
              "    </tr>\n",
              "    <tr>\n",
              "      <th>51345</th>\n",
              "      <td>331</td>\n",
              "      <td>106696</td>\n",
              "      <td>3.5</td>\n",
              "      <td>1537158456</td>\n",
              "    </tr>\n",
              "    <tr>\n",
              "      <th>53458</th>\n",
              "      <td>352</td>\n",
              "      <td>106696</td>\n",
              "      <td>2.0</td>\n",
              "      <td>1493674468</td>\n",
              "    </tr>\n",
              "    <tr>\n",
              "      <th>58821</th>\n",
              "      <td>382</td>\n",
              "      <td>106696</td>\n",
              "      <td>3.5</td>\n",
              "      <td>1515161464</td>\n",
              "    </tr>\n",
              "    <tr>\n",
              "      <th>77938</th>\n",
              "      <td>483</td>\n",
              "      <td>106696</td>\n",
              "      <td>4.0</td>\n",
              "      <td>1415575259</td>\n",
              "    </tr>\n",
              "    <tr>\n",
              "      <th>79732</th>\n",
              "      <td>495</td>\n",
              "      <td>106696</td>\n",
              "      <td>5.0</td>\n",
              "      <td>1458635883</td>\n",
              "    </tr>\n",
              "    <tr>\n",
              "      <th>80811</th>\n",
              "      <td>509</td>\n",
              "      <td>106696</td>\n",
              "      <td>4.5</td>\n",
              "      <td>1444255616</td>\n",
              "    </tr>\n",
              "    <tr>\n",
              "      <th>81910</th>\n",
              "      <td>517</td>\n",
              "      <td>106696</td>\n",
              "      <td>1.0</td>\n",
              "      <td>1487955739</td>\n",
              "    </tr>\n",
              "    <tr>\n",
              "      <th>83064</th>\n",
              "      <td>525</td>\n",
              "      <td>106696</td>\n",
              "      <td>3.5</td>\n",
              "      <td>1476476140</td>\n",
              "    </tr>\n",
              "    <tr>\n",
              "      <th>84033</th>\n",
              "      <td>534</td>\n",
              "      <td>106696</td>\n",
              "      <td>3.0</td>\n",
              "      <td>1459787998</td>\n",
              "    </tr>\n",
              "    <tr>\n",
              "      <th>88023</th>\n",
              "      <td>567</td>\n",
              "      <td>106696</td>\n",
              "      <td>0.5</td>\n",
              "      <td>1525289874</td>\n",
              "    </tr>\n",
              "    <tr>\n",
              "      <th>89900</th>\n",
              "      <td>583</td>\n",
              "      <td>106696</td>\n",
              "      <td>3.0</td>\n",
              "      <td>1481474420</td>\n",
              "    </tr>\n",
              "    <tr>\n",
              "      <th>90206</th>\n",
              "      <td>586</td>\n",
              "      <td>106696</td>\n",
              "      <td>5.0</td>\n",
              "      <td>1529899352</td>\n",
              "    </tr>\n",
              "    <tr>\n",
              "      <th>92080</th>\n",
              "      <td>596</td>\n",
              "      <td>106696</td>\n",
              "      <td>3.5</td>\n",
              "      <td>1535827238</td>\n",
              "    </tr>\n",
              "  </tbody>\n",
              "</table>\n",
              "</div>\n",
              "      <button class=\"colab-df-convert\" onclick=\"convertToInteractive('df-b445b48a-ad3f-4382-8377-994ea47417eb')\"\n",
              "              title=\"Convert this dataframe to an interactive table.\"\n",
              "              style=\"display:none;\">\n",
              "        \n",
              "  <svg xmlns=\"http://www.w3.org/2000/svg\" height=\"24px\"viewBox=\"0 0 24 24\"\n",
              "       width=\"24px\">\n",
              "    <path d=\"M0 0h24v24H0V0z\" fill=\"none\"/>\n",
              "    <path d=\"M18.56 5.44l.94 2.06.94-2.06 2.06-.94-2.06-.94-.94-2.06-.94 2.06-2.06.94zm-11 1L8.5 8.5l.94-2.06 2.06-.94-2.06-.94L8.5 2.5l-.94 2.06-2.06.94zm10 10l.94 2.06.94-2.06 2.06-.94-2.06-.94-.94-2.06-.94 2.06-2.06.94z\"/><path d=\"M17.41 7.96l-1.37-1.37c-.4-.4-.92-.59-1.43-.59-.52 0-1.04.2-1.43.59L10.3 9.45l-7.72 7.72c-.78.78-.78 2.05 0 2.83L4 21.41c.39.39.9.59 1.41.59.51 0 1.02-.2 1.41-.59l7.78-7.78 2.81-2.81c.8-.78.8-2.07 0-2.86zM5.41 20L4 18.59l7.72-7.72 1.47 1.35L5.41 20z\"/>\n",
              "  </svg>\n",
              "      </button>\n",
              "      \n",
              "  <style>\n",
              "    .colab-df-container {\n",
              "      display:flex;\n",
              "      flex-wrap:wrap;\n",
              "      gap: 12px;\n",
              "    }\n",
              "\n",
              "    .colab-df-convert {\n",
              "      background-color: #E8F0FE;\n",
              "      border: none;\n",
              "      border-radius: 50%;\n",
              "      cursor: pointer;\n",
              "      display: none;\n",
              "      fill: #1967D2;\n",
              "      height: 32px;\n",
              "      padding: 0 0 0 0;\n",
              "      width: 32px;\n",
              "    }\n",
              "\n",
              "    .colab-df-convert:hover {\n",
              "      background-color: #E2EBFA;\n",
              "      box-shadow: 0px 1px 2px rgba(60, 64, 67, 0.3), 0px 1px 3px 1px rgba(60, 64, 67, 0.15);\n",
              "      fill: #174EA6;\n",
              "    }\n",
              "\n",
              "    [theme=dark] .colab-df-convert {\n",
              "      background-color: #3B4455;\n",
              "      fill: #D2E3FC;\n",
              "    }\n",
              "\n",
              "    [theme=dark] .colab-df-convert:hover {\n",
              "      background-color: #434B5C;\n",
              "      box-shadow: 0px 1px 3px 1px rgba(0, 0, 0, 0.15);\n",
              "      filter: drop-shadow(0px 1px 2px rgba(0, 0, 0, 0.3));\n",
              "      fill: #FFFFFF;\n",
              "    }\n",
              "  </style>\n",
              "\n",
              "      <script>\n",
              "        const buttonEl =\n",
              "          document.querySelector('#df-b445b48a-ad3f-4382-8377-994ea47417eb button.colab-df-convert');\n",
              "        buttonEl.style.display =\n",
              "          google.colab.kernel.accessAllowed ? 'block' : 'none';\n",
              "\n",
              "        async function convertToInteractive(key) {\n",
              "          const element = document.querySelector('#df-b445b48a-ad3f-4382-8377-994ea47417eb');\n",
              "          const dataTable =\n",
              "            await google.colab.kernel.invokeFunction('convertToInteractive',\n",
              "                                                     [key], {});\n",
              "          if (!dataTable) return;\n",
              "\n",
              "          const docLinkHtml = 'Like what you see? Visit the ' +\n",
              "            '<a target=\"_blank\" href=https://colab.research.google.com/notebooks/data_table.ipynb>data table notebook</a>'\n",
              "            + ' to learn more about interactive tables.';\n",
              "          element.innerHTML = '';\n",
              "          dataTable['output_type'] = 'display_data';\n",
              "          await google.colab.output.renderOutput(dataTable, element);\n",
              "          const docLink = document.createElement('div');\n",
              "          docLink.innerHTML = docLinkHtml;\n",
              "          element.appendChild(docLink);\n",
              "        }\n",
              "      </script>\n",
              "    </div>\n",
              "  </div>\n",
              "  "
            ]
          },
          "metadata": {},
          "execution_count": 46
        }
      ]
    },
    {
      "cell_type": "code",
      "source": [
        "ratings.loc[ratings['userId'] == 567, 'rating'].hist()"
      ],
      "metadata": {
        "colab": {
          "base_uri": "https://localhost:8080/",
          "height": 282
        },
        "id": "NXmHhZ1i0SBG",
        "outputId": "6e78ad39-6160-44dc-db26-600d490f9468"
      },
      "execution_count": null,
      "outputs": [
        {
          "output_type": "execute_result",
          "data": {
            "text/plain": [
              "<matplotlib.axes._subplots.AxesSubplot at 0x7fd2d9176c10>"
            ]
          },
          "metadata": {},
          "execution_count": 49
        },
        {
          "output_type": "display_data",
          "data": {
            "text/plain": [
              "<Figure size 432x288 with 1 Axes>"
            ],
            "image/png": "[encoded data removed]"
          },
          "metadata": {
            "needs_background": "light"
          }
        }
      ]
    },
    {
      "cell_type": "code",
      "source": [
        "ratings['rating'].hist()"
      ],
      "metadata": {
        "colab": {
          "base_uri": "https://localhost:8080/",
          "height": 282
        },
        "id": "MVIVs-WP0r9R",
        "outputId": "dbc351c6-bdba-4d7a-a337-93b52bd4b536"
      },
      "execution_count": null,
      "outputs": [
        {
          "output_type": "execute_result",
          "data": {
            "text/plain": [
              "<matplotlib.axes._subplots.AxesSubplot at 0x7fd2d917c7d0>"
            ]
          },
          "metadata": {},
          "execution_count": 50
        },
        {
          "output_type": "display_data",
          "data": {
            "text/plain": [
              "<Figure size 432x288 with 1 Axes>"
            ],
            "image/png": "[encoded data removed]"
          },
          "metadata": {
            "needs_background": "light"
          }
        }
      ]
    },
    {
      "cell_type": "code",
      "source": [],
      "metadata": {
        "id": "xTOBsDrm06eq"
      },
      "execution_count": null,
      "outputs": []
    }
  ]
}